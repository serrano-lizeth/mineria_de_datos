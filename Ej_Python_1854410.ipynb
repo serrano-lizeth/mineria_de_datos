{
  "nbformat": 4,
  "nbformat_minor": 0,
  "metadata": {
    "colab": {
      "name": "Untitled0.ipynb",
      "provenance": [],
      "collapsed_sections": [
        "e3Goj_5QpEsC",
        "_ZYxf6lIqYoq",
        "dvNBUG9wvg3o",
        "P5u642Ggw8ad",
        "ZKWOmEAm0wet"
      ]
    },
    "kernelspec": {
      "name": "python3",
      "display_name": "Python 3"
    },
    "language_info": {
      "name": "python"
    }
  },
  "cells": [
    {
      "cell_type": "markdown",
      "metadata": {
        "id": "e3Goj_5QpEsC"
      },
      "source": [
        "\n",
        "### **Ejercicio 1:**\n",
        "Realiza una variable con tu matricula y realiza una secuencia de imprimir con tu nombre y tu matricula concatenados."
      ]
    },
    {
      "cell_type": "code",
      "metadata": {
        "colab": {
          "base_uri": "https://localhost:8080/"
        },
        "id": "_VZ02ONSpZfE",
        "outputId": "a476cdd4-04f5-49f1-e992-f264b3787567"
      },
      "source": [
        "mat = 1854410\n",
        "nom = \"Lizeth Serrano Caballero\"\n",
        "print(nom,mat)"
      ],
      "execution_count": null,
      "outputs": [
        {
          "output_type": "stream",
          "text": [
            "Lizeth Serrano Caballero 1854410\n"
          ],
          "name": "stdout"
        }
      ]
    },
    {
      "cell_type": "markdown",
      "metadata": {
        "id": "_ZYxf6lIqYoq"
      },
      "source": [
        "### **Ejercicio 2:**\n",
        "Pidiendo el input del usuario pide dos números y crea una pequeña calculadora con los operadores básicos de suma, resta, multiplicación, división, y exponente."
      ]
    },
    {
      "cell_type": "code",
      "metadata": {
        "colab": {
          "base_uri": "https://localhost:8080/"
        },
        "id": "g3M3V2oeqPoG",
        "outputId": "4063c77e-5849-4e8a-c961-0a9c7b26bea1"
      },
      "source": [
        "n1 = float(input(\"Ingresa tu primer valor: \"))\n",
        "n2 = float(input(\"Ingresa tu segundo valor: \"))\n",
        "op = input(\"Ingresa el numero que corresponde a la operacion deseada 1.-Suma 2.-Resta 3.-Multiplicacion 4.-Division 5.-Exponente\")\n",
        "if op == 1:\n",
        "  r = n1+n2\n",
        "elif op == 2:\n",
        "  r = n1-n2\n",
        "elif op == 3:\n",
        "  r = n1*n2\n",
        "elif op == 4:\n",
        "  r = n1/n2\n",
        "else:\n",
        "  r = n1**n2\n",
        "\n",
        "print(\"El resultado de la operacion es: \", r)"
      ],
      "execution_count": null,
      "outputs": [
        {
          "output_type": "stream",
          "text": [
            "Ingresa tu primer valor: 5\n",
            "Ingresa tu segundo valor: 10\n",
            "Ingresa el numero que corresponde a la operacion deseada 1.-Suma 2.-Resta 3.-Multiplicacion 4.-Division 5.-Exponente5\n",
            "El resultado de la operacion es:  9765625.0\n"
          ],
          "name": "stdout"
        }
      ]
    },
    {
      "cell_type": "markdown",
      "metadata": {
        "id": "dvNBUG9wvg3o"
      },
      "source": [
        "### **Ejercicio 3:**\n",
        "Con loop while o for, realiza una lista de 10 numeros multiplos de 3, y después realiza una función de loop que sume todos los números dentro del arreglo."
      ]
    },
    {
      "cell_type": "code",
      "metadata": {
        "colab": {
          "base_uri": "https://localhost:8080/"
        },
        "id": "2-Hv2ZjfvxRD",
        "outputId": "d77e0aad-1f65-4078-b1c7-b54f4e20786e"
      },
      "source": [
        "a = 0\n",
        "b = 0\n",
        "for i in range(1,11):\n",
        "  a = i*3\n",
        "  b = b+a\n",
        "  print(a)\n",
        "print(\"La suma de los componentes del arreglo es: \",b)\n"
      ],
      "execution_count": null,
      "outputs": [
        {
          "output_type": "stream",
          "text": [
            "3\n",
            "6\n",
            "9\n",
            "12\n",
            "15\n",
            "18\n",
            "21\n",
            "24\n",
            "27\n",
            "30\n",
            "La suma de los componentes del arreglo es:  165\n"
          ],
          "name": "stdout"
        }
      ]
    },
    {
      "cell_type": "markdown",
      "metadata": {
        "id": "P5u642Ggw8ad"
      },
      "source": [
        "\n",
        "### **Ejercicio 4:**\n",
        "\n",
        "*   Con una función de if else, revisar si un número es par o es impar.\n",
        "*   Con una función de if else, revisar si un número es primo o no."
      ]
    },
    {
      "cell_type": "code",
      "metadata": {
        "colab": {
          "base_uri": "https://localhost:8080/"
        },
        "id": "_CJGzZG6xC5q",
        "outputId": "2a73c63d-6cca-443f-f791-4eafd7279c6a"
      },
      "source": [
        "Num = int(input(\"Ingrese un nuemro: \"))\n",
        "# Punto 1 #\n",
        "if Num%2 == 0:\n",
        "  print(Num, \"Es un numero par\")\n",
        "else:\n",
        "  print(Num, \"Es un numero impar\")\n",
        "\n",
        "# Punto 2 #\n",
        "valor = range(2,Num)\n",
        "con = 0\n",
        "for n in valor:\n",
        "  if Num % n==0:\n",
        "    con +=1\n",
        "    print(\"Divisor:\",n)\n",
        "\n",
        "if con>0:\n",
        "   print(\"El número no es primo\" )\n",
        "else:\n",
        "  print(\"El número es primo\")"
      ],
      "execution_count": null,
      "outputs": [
        {
          "output_type": "stream",
          "text": [
            "Ingrese un nuemro: 10\n",
            "10 Es un numero par\n",
            "Divisor: 2\n",
            "Divisor: 5\n",
            "El número no es primo\n"
          ],
          "name": "stdout"
        }
      ]
    },
    {
      "cell_type": "markdown",
      "metadata": {
        "id": "ZKWOmEAm0wet"
      },
      "source": [
        "### **Ejercicio** 5:\n",
        "Utilizando diferentes clases en python, crea una calculadora con los operadores básicos de suma, resta, multiplicación, división, y exponente."
      ]
    },
    {
      "cell_type": "code",
      "metadata": {
        "colab": {
          "base_uri": "https://localhost:8080/"
        },
        "id": "HA4lB24t0wFO",
        "outputId": "cc8fd145-9b5d-49f9-effc-b4a8185bf4d4"
      },
      "source": [
        "class cal():\n",
        "    def __init__(self,a,b):\n",
        "        self.a=a\n",
        "        self.b=b\n",
        "    def add(self):\n",
        "        return self.a+self.b\n",
        "    def mul(self):\n",
        "        return self.a*self.b\n",
        "    def div(self):\n",
        "        return self.a/self.b\n",
        "    def sub(self):\n",
        "        return self.a-self.b\n",
        "    def exp(self):\n",
        "        return self.a**self.b\n",
        "a=int(input(\"Ingresa el primer número: \"))\n",
        "b=int(input(\"Ingresa el segundo número: \"))\n",
        "obj=cal(a,b)\n",
        "z=1\n",
        "while z!=0:\n",
        "    print(\"0. Salir\")\n",
        "    print(\"1. Sumar\")\n",
        "    print(\"2. Restar\")\n",
        "    print(\"3. Multiplicar\")\n",
        "    print(\"4. Dividir\")\n",
        "    print(\"5. Exponente\")\n",
        "    z=int(input(\"Ingresa una opción: \"))\n",
        "    if z==1:\n",
        "        print(\"Resultado: \",obj.add())\n",
        "    elif z==2:\n",
        "        print(\"Resultado: \",obj.sub())\n",
        "    elif z==3:\n",
        "        print(\"Resultado: \",obj.mul())\n",
        "    elif z==4:\n",
        "        print(\"Resultado: \",round(obj.div(),2))\n",
        "    elif z==5:\n",
        "        print(\"Resultado: \",round(obj.exp(),2))  \n",
        "    elif z==0:\n",
        "        print(\"Saliendo!\")\n",
        "    else:\n",
        "        print(\"Opción invalida\")\n",
        " \n",
        "#Fuente https://www.sanfoundry.com/python-program-class-performs-basic-calculator-operations/"
      ],
      "execution_count": null,
      "outputs": [
        {
          "output_type": "stream",
          "text": [
            "Ingresa el primer número: 10\n",
            "Ingresa el segundo número: 2\n",
            "0. Salir\n",
            "1. Sumar\n",
            "2. Restar\n",
            "3. Multiplicar\n",
            "4. Dividir\n",
            "5. Exponente\n",
            "Ingresa una opción: 1\n",
            "Resultado:  12\n",
            "0. Salir\n",
            "1. Sumar\n",
            "2. Restar\n",
            "3. Multiplicar\n",
            "4. Dividir\n",
            "5. Exponente\n",
            "Ingresa una opción: 2\n",
            "Resultado:  8\n",
            "0. Salir\n",
            "1. Sumar\n",
            "2. Restar\n",
            "3. Multiplicar\n",
            "4. Dividir\n",
            "5. Exponente\n",
            "Ingresa una opción: 3\n",
            "Resultado:  20\n",
            "0. Salir\n",
            "1. Sumar\n",
            "2. Restar\n",
            "3. Multiplicar\n",
            "4. Dividir\n",
            "5. Exponente\n",
            "Ingresa una opción: 4\n",
            "Resultado:  5.0\n",
            "0. Salir\n",
            "1. Sumar\n",
            "2. Restar\n",
            "3. Multiplicar\n",
            "4. Dividir\n",
            "5. Exponente\n",
            "Ingresa una opción: 5\n",
            "Resultado:  100\n",
            "0. Salir\n",
            "1. Sumar\n",
            "2. Restar\n",
            "3. Multiplicar\n",
            "4. Dividir\n",
            "5. Exponente\n",
            "Ingresa una opción: 0\n",
            "Saliendo!\n"
          ],
          "name": "stdout"
        }
      ]
    },
    {
      "cell_type": "markdown",
      "metadata": {
        "id": "17kUtAf73Hxs"
      },
      "source": [
        "# **Tuplas**\n",
        "Crear una variable flotante, integer, boleana y compleja e imprimir el tipo de variable que es."
      ]
    },
    {
      "cell_type": "code",
      "metadata": {
        "colab": {
          "base_uri": "https://localhost:8080/"
        },
        "id": "vGvg8RPS3XuY",
        "outputId": "0e94477c-b2a3-46b1-e408-9829e0f52448"
      },
      "source": [
        "a = 3.6\n",
        "b = 4\n",
        "c = True\n",
        "d = 4 + 2j\n",
        "print(\"La variable a es de tipo: \", type (a))\n",
        "print(\"La variable b es de tipo: \", type (b))\n",
        "print(\"La variable c es de tipo: \", type (c))\n",
        "print(\"La variable d es de tipo: \", type (d))"
      ],
      "execution_count": null,
      "outputs": [
        {
          "output_type": "stream",
          "text": [
            "La variable a es de tipo:  <class 'float'>\n",
            "La variable b es de tipo:  <class 'int'>\n",
            "La variable c es de tipo:  <class 'bool'>\n",
            "La variable d es de tipo:  <class 'complex'>\n"
          ],
          "name": "stdout"
        }
      ]
    },
    {
      "cell_type": "markdown",
      "metadata": {
        "id": "l-jIRoTk4Krm"
      },
      "source": [
        "Crear una tupla con valores enteros, imprimir el primer y último valor."
      ]
    },
    {
      "cell_type": "code",
      "metadata": {
        "colab": {
          "base_uri": "https://localhost:8080/"
        },
        "id": "SzzE0r_a4PNv",
        "outputId": "62f9e109-face-4689-8346-bccbb2b907bf"
      },
      "source": [
        "t=(10,100,1000,10000)\n",
        "print(\"El primer valor de la tuplaes: \",t[0])\n",
        "print(\"El ultimo valor de la tupla es: \", t[3])"
      ],
      "execution_count": null,
      "outputs": [
        {
          "output_type": "stream",
          "text": [
            "El primer valor de la tuplaes:  10\n",
            "El ultimo valor de la tupla es:  10000\n"
          ],
          "name": "stdout"
        }
      ]
    },
    {
      "cell_type": "markdown",
      "metadata": {
        "id": "cnBw52XQ5AFP"
      },
      "source": [
        "Añadir 3 valores de string a la tupla"
      ]
    },
    {
      "cell_type": "code",
      "metadata": {
        "id": "9kxRhXOI5CFT"
      },
      "source": [
        "x=1\n"
      ],
      "execution_count": 2,
      "outputs": []
    },
    {
      "cell_type": "markdown",
      "metadata": {
        "id": "PafMlPPC5qbn"
      },
      "source": [
        "Verificar si una variable existe dentro de la tupla."
      ]
    },
    {
      "cell_type": "code",
      "metadata": {
        "colab": {
          "base_uri": "https://localhost:8080/"
        },
        "id": "2-nG-Wxb5sgM",
        "outputId": "b4cf328b-b9ca-448a-ad17-b4410803fa7c"
      },
      "source": [
        "t=(10,100,1000,10000)\n",
        "print(\"¿El 3 está en la tupla?\", 10000 in t)\n",
        "print(\"¿El 0 está en la tupla?\", 0 in t)"
      ],
      "execution_count": null,
      "outputs": [
        {
          "output_type": "stream",
          "text": [
            "¿El 3 está en la tupla? True\n",
            "¿El 0 está en la tupla? False\n"
          ],
          "name": "stdout"
        }
      ]
    },
    {
      "cell_type": "markdown",
      "metadata": {
        "id": "mm11F8lvd3lN"
      },
      "source": [
        "# **Listas**\n",
        "Crear una lista con 40 elementos aleatorios enteros."
      ]
    },
    {
      "cell_type": "code",
      "metadata": {
        "colab": {
          "base_uri": "https://localhost:8080/"
        },
        "id": "cPhk2FHDeES7",
        "outputId": "6c07af7e-4e47-41f3-8b4b-f6aad30f9032"
      },
      "source": [
        "import random as r\n",
        "L = []\n",
        "for i in range (1,41):\n",
        "  L.append(r.randint(1,1000))\n",
        "print(L)"
      ],
      "execution_count": 3,
      "outputs": [
        {
          "output_type": "stream",
          "text": [
            "[112, 297, 9, 49, 260, 366, 82, 8, 847, 584, 292, 388, 6, 350, 276, 735, 883, 155, 667, 32, 789, 531, 765, 497, 511, 718, 817, 211, 273, 682, 968, 268, 289, 452, 764, 521, 521, 866, 137, 702]\n"
          ],
          "name": "stdout"
        }
      ]
    },
    {
      "cell_type": "markdown",
      "metadata": {
        "id": "m-x7fv2Xem_-"
      },
      "source": [
        "Con una funcion (def) crear dos listas nuevas a partir de la lista creada por numeros aleatorios, en la cual en una esten los elementos pares, y en la otra los elementos impares."
      ]
    },
    {
      "cell_type": "code",
      "metadata": {
        "colab": {
          "base_uri": "https://localhost:8080/"
        },
        "id": "ABE1i48QerEN",
        "outputId": "15b3b7e7-8b11-48a9-95eb-b6ad27e8a23e"
      },
      "source": [
        "#PARES\n",
        "def pares(x):\n",
        "    p = []\n",
        "    for n in x:\n",
        "        if n % 2 == 0:\n",
        "            p.append(n)     \n",
        "    return p\n",
        "p=pares(L)\n",
        "#IMPARES\n",
        "def impares(x):\n",
        "    i = []\n",
        "    for n in x:\n",
        "        if n % 2 != 0:\n",
        "            i.append(n)       \n",
        "    return i\n",
        "im=impares(L)\n",
        "print (\"La lista de pares es: \", p)\n",
        "print (\"La lista de impares es: \", im)"
      ],
      "execution_count": 5,
      "outputs": [
        {
          "output_type": "stream",
          "text": [
            "La lista de pares es:  [112, 260, 366, 82, 8, 584, 292, 388, 6, 350, 276, 32, 718, 682, 968, 268, 452, 764, 866, 702]\n",
            "La lista de impares es:  [297, 9, 49, 847, 735, 883, 155, 667, 789, 531, 765, 497, 511, 817, 211, 273, 289, 521, 521, 137]\n"
          ],
          "name": "stdout"
        }
      ]
    },
    {
      "cell_type": "markdown",
      "metadata": {
        "id": "N5MiKZwIfRN6"
      },
      "source": [
        "Crear dos variables con la longitud de ambas listas nuevas e imprimir las variables."
      ]
    },
    {
      "cell_type": "code",
      "metadata": {
        "colab": {
          "base_uri": "https://localhost:8080/"
        },
        "id": "EkI2fw1JfmNP",
        "outputId": "2ed7b941-e421-4115-8a74-65672bfe8d53"
      },
      "source": [
        "x"
      ],
      "execution_count": 8,
      "outputs": [
        {
          "output_type": "execute_result",
          "data": {
            "text/plain": [
              "[]"
            ]
          },
          "metadata": {},
          "execution_count": 8
        }
      ]
    },
    {
      "cell_type": "markdown",
      "metadata": {
        "id": "mp83kZCnfXo6"
      },
      "source": [
        "Ordenar los elementos de la lista par de mayor a menor, y los de la lista impar de menor a mayor.\n"
      ]
    },
    {
      "cell_type": "code",
      "metadata": {
        "colab": {
          "base_uri": "https://localhost:8080/"
        },
        "id": "1I_z8Evdf_xA",
        "outputId": "458199b6-d93a-4823-e09d-24f314c3d9da"
      },
      "source": [
        "x"
      ],
      "execution_count": 10,
      "outputs": [
        {
          "output_type": "execute_result",
          "data": {
            "text/plain": [
              "[]"
            ]
          },
          "metadata": {},
          "execution_count": 10
        }
      ]
    },
    {
      "cell_type": "markdown",
      "metadata": {
        "id": "kTqsHbK1gBzV"
      },
      "source": [
        "Utilizar al menos cuatro de las funciones de listas en python en la lista original de 40 elementos."
      ]
    },
    {
      "cell_type": "code",
      "metadata": {
        "id": "qvd-yY1kgFgQ"
      },
      "source": [
        ""
      ],
      "execution_count": null,
      "outputs": []
    }
  ]
}